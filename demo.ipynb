{
 "cells": [
  {
   "cell_type": "code",
   "execution_count": 1,
   "outputs": [
    {
     "ename": "ImportError",
     "evalue": "cannot import name 'GlobalParameters' from partially initialized module 'common' (most likely due to a circular import) (/mnt/c/Users/itama/Code/pyzzle-solver/common.py)",
     "output_type": "error",
     "traceback": [
      "\u001B[0;31m---------------------------------------------------------------------------\u001B[0m",
      "\u001B[0;31mImportError\u001B[0m                               Traceback (most recent call last)",
      "Cell \u001B[0;32mIn[1], line 4\u001B[0m\n\u001B[1;32m      1\u001B[0m \u001B[38;5;28;01mimport\u001B[39;00m \u001B[38;5;21;01mnumpy\u001B[39;00m \u001B[38;5;28;01mas\u001B[39;00m \u001B[38;5;21;01mnp\u001B[39;00m\n\u001B[1;32m      2\u001B[0m \u001B[38;5;66;03m# from cell import Cell\u001B[39;00m\n\u001B[1;32m      3\u001B[0m \u001B[38;5;66;03m# from group import Group\u001B[39;00m\n\u001B[0;32m----> 4\u001B[0m \u001B[38;5;28;01mfrom\u001B[39;00m \u001B[38;5;21;01mboard\u001B[39;00m \u001B[38;5;28;01mimport\u001B[39;00m Board\n",
      "File \u001B[0;32m/mnt/c/Users/itama/Code/pyzzle-solver/board.py:4\u001B[0m\n\u001B[1;32m      1\u001B[0m \u001B[38;5;28;01mimport\u001B[39;00m \u001B[38;5;21;01mnumpy\u001B[39;00m \u001B[38;5;28;01mas\u001B[39;00m \u001B[38;5;21;01mnp\u001B[39;00m\n\u001B[1;32m      3\u001B[0m \u001B[38;5;28;01mfrom\u001B[39;00m \u001B[38;5;21;01mIIdentifiable\u001B[39;00m \u001B[38;5;28;01mimport\u001B[39;00m IIdentifiable\n\u001B[0;32m----> 4\u001B[0m \u001B[38;5;28;01mfrom\u001B[39;00m \u001B[38;5;21;01mgroup_inferer\u001B[39;00m \u001B[38;5;28;01mimport\u001B[39;00m infer_groups_from_grid\n\u001B[1;32m      6\u001B[0m \u001B[38;5;28;01mclass\u001B[39;00m \u001B[38;5;21;01mBoard\u001B[39;00m(IIdentifiable):\n\u001B[1;32m      7\u001B[0m     \u001B[38;5;28;01mdef\u001B[39;00m \u001B[38;5;21m__init__\u001B[39m(\u001B[38;5;28mself\u001B[39m, grid: np\u001B[38;5;241m.\u001B[39marray):\n",
      "File \u001B[0;32m/mnt/c/Users/itama/Code/pyzzle-solver/group_inferer.py:3\u001B[0m\n\u001B[1;32m      1\u001B[0m \u001B[38;5;28;01mfrom\u001B[39;00m \u001B[38;5;21;01mtyping\u001B[39;00m \u001B[38;5;28;01mimport\u001B[39;00m List\n\u001B[0;32m----> 3\u001B[0m \u001B[38;5;28;01mfrom\u001B[39;00m \u001B[38;5;21;01mcommon\u001B[39;00m \u001B[38;5;28;01mimport\u001B[39;00m GlobalParameters\n\u001B[1;32m      4\u001B[0m \u001B[38;5;28;01mfrom\u001B[39;00m \u001B[38;5;21;01mgroup\u001B[39;00m \u001B[38;5;28;01mimport\u001B[39;00m Group\n\u001B[1;32m      7\u001B[0m \u001B[38;5;28;01mdef\u001B[39;00m \u001B[38;5;21m_infer_all_groups\u001B[39m(board):\n",
      "File \u001B[0;32m/mnt/c/Users/itama/Code/pyzzle-solver/common.py:3\u001B[0m\n\u001B[1;32m      1\u001B[0m \u001B[38;5;28;01mfrom\u001B[39;00m \u001B[38;5;21;01mtyping\u001B[39;00m \u001B[38;5;28;01mimport\u001B[39;00m Dict\n\u001B[0;32m----> 3\u001B[0m \u001B[38;5;28;01mfrom\u001B[39;00m \u001B[38;5;21;01mcell\u001B[39;00m \u001B[38;5;28;01mimport\u001B[39;00m Cell\n\u001B[1;32m      4\u001B[0m \u001B[38;5;28;01mfrom\u001B[39;00m \u001B[38;5;21;01mgroup\u001B[39;00m \u001B[38;5;28;01mimport\u001B[39;00m Group\n\u001B[1;32m      7\u001B[0m \u001B[38;5;28;01mclass\u001B[39;00m \u001B[38;5;21;01mGlobalParameters\u001B[39;00m:\n",
      "File \u001B[0;32m/mnt/c/Users/itama/Code/pyzzle-solver/cell.py:6\u001B[0m\n\u001B[1;32m      1\u001B[0m \u001B[38;5;124;03m\"\"\"\u001B[39;00m\n\u001B[1;32m      2\u001B[0m \u001B[38;5;124;03mClass Cell.\u001B[39;00m\n\u001B[1;32m      3\u001B[0m \u001B[38;5;124;03mThis object represents a cell in a board puzzle.\u001B[39;00m\n\u001B[1;32m      4\u001B[0m \u001B[38;5;124;03m\"\"\"\u001B[39;00m\n\u001B[1;32m      5\u001B[0m \u001B[38;5;28;01mfrom\u001B[39;00m \u001B[38;5;21;01mIIdentifiable\u001B[39;00m \u001B[38;5;28;01mimport\u001B[39;00m IIdentifiable\n\u001B[0;32m----> 6\u001B[0m \u001B[38;5;28;01mfrom\u001B[39;00m \u001B[38;5;21;01mcommon\u001B[39;00m \u001B[38;5;28;01mimport\u001B[39;00m GlobalParameters\n\u001B[1;32m      9\u001B[0m \u001B[38;5;28;01mclass\u001B[39;00m \u001B[38;5;21;01mCell\u001B[39;00m(IIdentifiable):\n\u001B[1;32m     10\u001B[0m \u001B[38;5;250m    \u001B[39m\u001B[38;5;124;03m\"\"\"\u001B[39;00m\n\u001B[1;32m     11\u001B[0m \u001B[38;5;124;03m    This object represents a cell in a board puzzle.\u001B[39;00m\n\u001B[1;32m     12\u001B[0m \u001B[38;5;124;03m    \"\"\"\u001B[39;00m\n",
      "\u001B[0;31mImportError\u001B[0m: cannot import name 'GlobalParameters' from partially initialized module 'common' (most likely due to a circular import) (/mnt/c/Users/itama/Code/pyzzle-solver/common.py)"
     ]
    }
   ],
   "source": [
    "import numpy as np\n",
    "# from cell import Cell\n",
    "# from group import Group\n",
    "from board import Board"
   ],
   "metadata": {
    "collapsed": false
   }
  },
  {
   "cell_type": "code",
   "execution_count": null,
   "outputs": [],
   "source": [
    "grid = np.array([[0, 1, 5, 4, 0, 0, 0, 3, 0],\n",
    "                 [0, 0, 0, 0, 3, 9, 8, 0, 0],\n",
    "                 [0, 0, 3, 1, 0, 0, 0, 0, 2],\n",
    "                 [8, 0, 0, 0, 0, 3, 5, 0, 0],\n",
    "                 [0, 0, 7, 2, 0, 1, 6, 0, 0],\n",
    "                 [0, 0, 2, 7, 0, 0, 0, 0, 4],\n",
    "                 [3, 0, 0, 0, 0, 4, 7, 0, 0],\n",
    "                 [0, 0, 6, 9, 2, 5, 0, 0, 0],\n",
    "                 [0, 4, 0, 0, 0, 7, 2, 6, 0]\n",
    "                 ])"
   ],
   "metadata": {
    "collapsed": false
   }
  },
  {
   "cell_type": "code",
   "execution_count": null,
   "outputs": [],
   "source": [
    "b = Board(grid)"
   ],
   "metadata": {
    "collapsed": false
   }
  },
  {
   "cell_type": "code",
   "execution_count": null,
   "outputs": [],
   "source": [
    "b.groups"
   ],
   "metadata": {
    "collapsed": false
   }
  },
  {
   "cell_type": "code",
   "execution_count": null,
   "outputs": [],
   "source": [],
   "metadata": {
    "collapsed": false
   }
  }
 ],
 "metadata": {
  "kernelspec": {
   "display_name": "Python 3",
   "language": "python",
   "name": "python3"
  },
  "language_info": {
   "codemirror_mode": {
    "name": "ipython",
    "version": 2
   },
   "file_extension": ".py",
   "mimetype": "text/x-python",
   "name": "python",
   "nbconvert_exporter": "python",
   "pygments_lexer": "ipython2",
   "version": "2.7.6"
  }
 },
 "nbformat": 4,
 "nbformat_minor": 0
}
